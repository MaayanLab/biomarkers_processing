{
 "cells": [
  {
   "cell_type": "code",
   "execution_count": 5,
   "metadata": {},
   "outputs": [],
   "source": [
    "import csv\n",
    "import requests"
   ]
  },
  {
   "cell_type": "code",
   "execution_count": 2,
   "metadata": {},
   "outputs": [],
   "source": [
    "targets = [\n",
    "    \"BRCA1\",\n",
    "    \"BRCA2\",\n",
    "    \"TP53\",\n",
    "    \"EGFR\",\n",
    "    \"HER2\",\n",
    "    \"KRAS\",\n",
    "    \"ALK\",\n",
    "    \"HTT\",\n",
    "    \"CFTR\",\n",
    "    \"APOE\",\n",
    "    \"APOB\",\n",
    "    \"PCSK9\"\n",
    "]"
   ]
  },
  {
   "cell_type": "code",
   "execution_count": 3,
   "metadata": {},
   "outputs": [],
   "source": [
    "target_gmt = {}\n",
    "with open('data/LINCS_L1000_Chem_Pert_Consensus_Sigs') as o:\n",
    "    gmt = o.read().strip().split(\"\\n\")\n",
    "    for line in gmt:\n",
    "        label, _, *genes = line.strip().split(\"\\t\")\n",
    "        direction = \" Up\" if label.endswith(\"Up\") else \" Down\"\n",
    "        label = label.replace(direction, \"\")\n",
    "        for gene in genes:\n",
    "            if gene in targets:\n",
    "                target = \"%s%s\"%(gene, direction)\n",
    "                if target not in target_gmt:\n",
    "                    target_gmt[target] = []\n",
    "                target_gmt[target].append(label)"
   ]
  },
  {
   "cell_type": "code",
   "execution_count": 4,
   "metadata": {},
   "outputs": [],
   "source": [
    "with open(\"out/LINCS_Biomarkers.dmt\", \"w\") as w:\n",
    "    csv_writer = csv.writer(w, delimiter=\"\\t\")\n",
    "    for k,v in target_gmt.items():\n",
    "        csv_writer.writerow([k, '', *v])\n"
   ]
  },
  {
   "cell_type": "code",
   "execution_count": 9,
   "metadata": {},
   "outputs": [
    {
     "data": {
      "text/plain": [
       "True"
      ]
     },
     "execution_count": 9,
     "metadata": {},
     "output_type": "execute_result"
    }
   ],
   "source": [
    "payload = {\n",
    "    \"filter\": {\n",
    "        \"where\": {\n",
    "            \"meta.symbol\": {\"inq\": targets}\n",
    "        }\n",
    "    }\n",
    "}\n",
    "res = requests.post(\"https://maayanlab.cloud/sigcom-lincs/metadata-api/entities/find\", json=payload)\n",
    "res.ok"
   ]
  },
  {
   "cell_type": "code",
   "execution_count": 10,
   "metadata": {},
   "outputs": [
    {
     "data": {
      "text/plain": [
       "11"
      ]
     },
     "execution_count": 10,
     "metadata": {},
     "output_type": "execute_result"
    }
   ],
   "source": [
    "len(res.json())"
   ]
  },
  {
   "cell_type": "code",
   "execution_count": 11,
   "metadata": {},
   "outputs": [],
   "source": [
    "entity_map = {}\n",
    "for i in res.json():\n",
    "    entity_map[i[\"id\"]] = i[\"meta\"][\"symbol\"]"
   ]
  },
  {
   "cell_type": "code",
   "execution_count": 12,
   "metadata": {},
   "outputs": [
    {
     "data": {
      "text/plain": [
       "{'a1bbe12f-6fee-4341-80f0-d8a4a508d959': 'ALK',\n",
       " '16fc1452-3480-4573-90a3-8347077636e4': 'APOB',\n",
       " '5b763eeb-d308-4897-babe-39bb97368419': 'APOE',\n",
       " 'd183d2e8-1f7c-446a-a0cc-c1620be9136c': 'BRCA1',\n",
       " '58d3a61e-1646-4b80-b477-12df8788c43b': 'BRCA2',\n",
       " '88ceba40-1dc3-459e-994c-f42491483cd4': 'CFTR',\n",
       " '0ea12571-4972-42d5-a8a2-3d45328b7ea0': 'EGFR',\n",
       " 'f69db30a-61d0-43a2-9905-10811a4f71df': 'HTT',\n",
       " '5811eb5e-970c-48a5-b2ba-31d0598d0824': 'KRAS',\n",
       " '141dab86-39d0-41c9-aafd-154faabd5ff6': 'PCSK9',\n",
       " '330941f8-ea63-4d2e-8401-bd6dacd05ab9': 'TP53'}"
      ]
     },
     "execution_count": 12,
     "metadata": {},
     "output_type": "execute_result"
    }
   ],
   "source": [
    "entity_map"
   ]
  },
  {
   "cell_type": "code",
   "execution_count": 16,
   "metadata": {},
   "outputs": [],
   "source": [
    "url = 'https://maayanlab.cloud/sigcom-lincs/metadata-api/entities/%s/signatures?filter={\"where\": {\"library\": \"42cd56da-0ad8-5dad-b27c-fe1d135401b2\"}}'\n",
    "target_dmt = {}\n",
    "\n",
    "for uid, gene in entity_map.items():\n",
    "    res = requests.get(url%uid)\n",
    "    if not res.ok:\n",
    "        raise(\"Error\")\n",
    "    else:\n",
    "        sigs = res.json()\n",
    "        for sig in sigs:\n",
    "            direction = sig[\"direction\"]\n",
    "            drug = sig[\"meta\"][\"pert_name\"]\n",
    "            label = \"%s %s\"%(gene,direction)\n",
    "            if label not in target_dmt:\n",
    "                target_dmt[label] = []\n",
    "            target_dmt[label].append(drug)"
   ]
  },
  {
   "cell_type": "code",
   "execution_count": null,
   "metadata": {},
   "outputs": [],
   "source": [
    "with open(\"out/LINCS_Biomarkers_v2.dmt\", \"w\") as w:\n",
    "    csv_writer = csv.writer(w, delimiter=\"\\t\")\n",
    "    for k,v in target_dmt.items():\n",
    "        csv_writer.writerow([k, '', *v])\n"
   ]
  },
  {
   "cell_type": "code",
   "execution_count": null,
   "metadata": {},
   "outputs": [],
   "source": []
  }
 ],
 "metadata": {
  "kernelspec": {
   "display_name": "venv",
   "language": "python",
   "name": "python3"
  },
  "language_info": {
   "codemirror_mode": {
    "name": "ipython",
    "version": 3
   },
   "file_extension": ".py",
   "mimetype": "text/x-python",
   "name": "python",
   "nbconvert_exporter": "python",
   "pygments_lexer": "ipython3",
   "version": "3.10.9"
  },
  "orig_nbformat": 4
 },
 "nbformat": 4,
 "nbformat_minor": 2
}
