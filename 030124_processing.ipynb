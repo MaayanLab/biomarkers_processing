{
 "cells": [
  {
   "cell_type": "code",
   "execution_count": 1,
   "metadata": {},
   "outputs": [],
   "source": [
    "import requests\n",
    "import json\n",
    "import re\n",
    "from tqdm import tqdm\n",
    "import os\n",
    "import pandas as pd\n",
    "import time\n",
    "import uuid\n",
    "from jsonschema import validate"
   ]
  },
  {
   "cell_type": "code",
   "execution_count": 2,
   "metadata": {},
   "outputs": [],
   "source": [
    "def fetch_save_read(url, file, reader=pd.read_csv, sep='\\t', **kwargs):\n",
    "  ''' Download file from {url}, save it to {file}, and subsequently read it with {reader} using pandas options on {**kwargs}.\n",
    "  '''\n",
    "  if not os.path.exists(file):\n",
    "    if os.path.dirname(file):\n",
    "      os.makedirs(os.path.dirname(file), exist_ok=True)\n",
    "    df = reader(url, sep=sep, index_col=None)\n",
    "    df.to_csv(file, sep=sep, index=False)\n",
    "  return pd.read_csv(file, sep=sep, **kwargs)"
   ]
  },
  {
   "cell_type": "code",
   "execution_count": 3,
   "metadata": {},
   "outputs": [],
   "source": [
    "organism = \"Mammalia/Homo_sapiens\"\n",
    "url = 'ftp://ftp.ncbi.nih.gov/gene/DATA/GENE_INFO/{}.gene_info.gz'.format(organism)\n",
    "file = '{}.gene_info.tsv'.format(organism)\n",
    "\n",
    "ncbi_gene = fetch_save_read(url, file)\n"
   ]
  },
  {
   "cell_type": "code",
   "execution_count": 8,
   "metadata": {},
   "outputs": [
    {
     "data": {
      "text/plain": [
       "array(['protein-coding', 'pseudo', 'other', 'unknown', 'ncRNA', 'tRNA',\n",
       "       'rRNA', 'scRNA', 'snoRNA', 'snRNA', 'biological-region'],\n",
       "      dtype=object)"
      ]
     },
     "execution_count": 8,
     "metadata": {},
     "output_type": "execute_result"
    }
   ],
   "source": [
    "ncbi_gene.type_of_gene.unique()"
   ]
  },
  {
   "cell_type": "code",
   "execution_count": 5,
   "metadata": {},
   "outputs": [],
   "source": [
    "def maybe_split(record):\n",
    "    ''' NCBI Stores Nulls as '-' and lists '|' delimited\n",
    "    '''\n",
    "    if record in {'', '-'}:\n",
    "        return set()\n",
    "    return set(record.split('|'))\n",
    "\n",
    "def supplement_dbXref_prefix_omitted(ids):\n",
    "    ''' NCBI Stores external IDS with Foreign:ID while most datasets just use the ID\n",
    "    '''\n",
    "    for id in ids:\n",
    "        # add original id\n",
    "        yield id\n",
    "        # also add id *without* prefix\n",
    "        if ':' in id:\n",
    "            yield id.split(':', maxsplit=1)[1]"
   ]
  },
  {
   "cell_type": "code",
   "execution_count": 6,
   "metadata": {},
   "outputs": [],
   "source": [
    "ncbi_gene['All_synonyms'] = [\n",
    "    set.union(\n",
    "      maybe_split(gene_info['Symbol']),\n",
    "      maybe_split(gene_info['Symbol_from_nomenclature_authority']),\n",
    "      maybe_split(str(gene_info['GeneID'])),\n",
    "      maybe_split(gene_info['Synonyms']),\n",
    "      maybe_split(gene_info['Other_designations']),\n",
    "      maybe_split(gene_info['LocusTag']),\n",
    "      set(supplement_dbXref_prefix_omitted(maybe_split(gene_info['dbXrefs']))),\n",
    "    )\n",
    "    for _, gene_info in ncbi_gene.iterrows()\n",
    "  ]\n",
    "\n",
    "synonyms, gene_id = zip(*{\n",
    "    (synonym, gene_info['GeneID'])\n",
    "    for _, gene_info in ncbi_gene.iterrows()\n",
    "    for synonym in gene_info['All_synonyms']\n",
    "  })\n",
    "ncbi_lookup_syn = pd.Series(gene_id, index=synonyms)\n",
    "symbols, cap, gene_id = zip(*{\n",
    "    (gene_info['Symbol'], gene_info['Symbol'].upper(), gene_info['GeneID'])\n",
    "    for _, gene_info in ncbi_gene.iterrows()\n",
    "  })\n",
    "ncbi_lookup_sym = pd.Series(gene_id, index=symbols)\n",
    "ncbi_lookup_sym_cap = pd.Series(gene_id, index=cap)"
   ]
  },
  {
   "cell_type": "code",
   "execution_count": 9,
   "metadata": {},
   "outputs": [],
   "source": [
    "index_values = ncbi_lookup_syn.index.value_counts()\n",
    "ambiguous = index_values[index_values > 1].index\n",
    "ncbi_lookup_syn_disambiguated = ncbi_lookup_syn[(\n",
    "(ncbi_lookup_syn.index == ncbi_lookup_syn) | (~ncbi_lookup_syn.index.isin(ambiguous))\n",
    ")]\n",
    "sym_dict = ncbi_lookup_sym.to_dict()\n",
    "syn_dict_cap = ncbi_lookup_sym_cap.to_dict()\n",
    "syn_dict = ncbi_lookup_syn_disambiguated.to_dict()\n",
    "def gene_lookup(gene):\n",
    "    gene_id = sym_dict.get(gene)\n",
    "    if gene_id: return str(gene_id)\n",
    "    gene_id = syn_dict_cap.get(gene)\n",
    "    if gene_id: return str(gene_id)\n",
    "    return str(syn_dict.get(gene))"
   ]
  },
  {
   "cell_type": "code",
   "execution_count": 10,
   "metadata": {},
   "outputs": [
    {
     "data": {
      "text/plain": [
       "'3105'"
      ]
     },
     "execution_count": 10,
     "metadata": {},
     "output_type": "execute_result"
    }
   ],
   "source": [
    "gene_lookup('HLA-A')"
   ]
  },
  {
   "cell_type": "code",
   "execution_count": 43,
   "metadata": {},
   "outputs": [],
   "source": [
    "gene_name_mapper = {\n",
    "    \"KI67\": \"MKI67\",\n",
    "    \"C16ORF61\": \"CMC2\",\n",
    "    \"C20ORF46\": \"TMEM74B\",\n",
    "    \"C9ORF30\": \"MSANTD3\",\n",
    "    \"GUS\": \"GUSB\",\n",
    "    \"RPLPO\": \"RPLP0\",\n",
    "    \"TRFC\": \"TFRC\",\n",
    "    \"TSBP\": \"TSBP1\"\n",
    "}\n",
    "invalid_genes = set()\n",
    "def valid_gene(gene):\n",
    "    gene = gene_name_mapper.get(gene, gene)\n",
    "    if gene_lookup(gene) != 'None':\n",
    "        return True\n",
    "    invalid_genes.add(gene)\n",
    "    return False"
   ]
  },
  {
   "cell_type": "code",
   "execution_count": 48,
   "metadata": {},
   "outputs": [],
   "source": [
    "conditions = {}\n",
    "invalid_conditions = set()\n",
    "def get_condition_id(condition):\n",
    "\tif condition in conditions: return conditions[condition]\n",
    "\telse:\n",
    "\t\tres = requests.get(\"https://www.ebi.ac.uk/ols4/api/v2/entities?search=%s&ontologyId=doid\"%condition)\n",
    "\t\tresults = res.json()\n",
    "\t\tif results['numElements'] > 0:\n",
    "\t\t\tfor e in results[\"elements\"]:\n",
    "\t\t\t\tif type(e[\"label\"]) == str and e[\"label\"].lower() == condition.lower() or (\"synonym\" in e and condition.lower() in [d.lower() for d in e[\"synonym\"]]):\n",
    "\t\t\t\t\tconditions[condition] = {\n",
    "\t\t\t\t\t\t\"label\": e[\"label\"],\n",
    "\t\t\t\t\t\t\"onto_id\": e[\"curie\"],\n",
    "\t\t\t\t\t\t\"source\": e[\"ontologyPreferredPrefix\"]\n",
    "\t\t\t\t\t}\n",
    "\t\t\t\t\tbreak\n",
    "\t\t\telse:\n",
    "\t\t\t\tinvalid_conditions.add(condition)\n",
    "\t\t\t\treturn None\n",
    "\t\t\t\n",
    "\n",
    "\t\t\n"
   ]
  },
  {
   "cell_type": "code",
   "execution_count": 51,
   "metadata": {},
   "outputs": [],
   "source": [
    "patents = {\n",
    "\t\"WIPO\": \"https://patentscope.wipo.int/search/en/detail.jsf?docId=%s\",\n",
    "\t\"Google Patents\": \"https://patents.google.com/patent/%s/en\"\n",
    "}"
   ]
  },
  {
   "cell_type": "code",
   "execution_count": 69,
   "metadata": {},
   "outputs": [],
   "source": [
    "gmt = []\n",
    "biomarkers = []\n",
    "\n",
    "with open('data/020524_biomarkers') as o:\n",
    "    for line in o:\n",
    "        group, c, pubmed, patent_id, patent_source, biomarker_temp, best_biomarker_role, *genes = line.split(\"\\t\")\n",
    "        conditon = get_condition_id(c)\n",
    "        biomarker = {\n",
    "            \"biomarker_id\": \"GeneSet_%s\"%len(biomarkers),\n",
    "            \"best_biomarker_role\": best_biomarker_role.replace(\"_biomarker\", \"\"),\n",
    "            \"conditon\": {\n",
    "                \"conditon_id\": conditon[\"onto_id\"],\n",
    "                \"recommended_name\": {\n",
    "                    \"condition_id\": conditon[\"onto_id\"],\n",
    "                    \"name\": conditon[\"label\"],\n",
    "                    \"resource\": \"Disease Ontology\",\n",
    "                    \"url\": \"http://disease-ontology.org/term/%s\"%conditon[\"onto_id\"],\n",
    "                }\n",
    "            },\n",
    "        }\n",
    "        evidence_source = []\n",
    "        evidence_source.append({\n",
    "            \"evidence_id\": pubmed,\n",
    "            \"database\": \"PubMed\",\n",
    "            \"url\": \"https://pubmed.ncbi.nlm.nih.gov/%s\"%pubmed\n",
    "        })\n",
    "        if patent_id:\n",
    "            evidence_source.append({\n",
    "                \"evidence_id\": patent_id,\n",
    "                \"database\": patent_source,\n",
    "                \"url\": patents[patent_source]%patent_id\n",
    "            })\n",
    "        biomarker[\"evidence_source\"] = evidence_source\n",
    "        biomarker_component = []\n",
    "        for gene in genes:\n",
    "            gene = gene.strip().upper()\n",
    "            if valid_gene(gene):\n",
    "                gene = gene_name_mapper.get(gene, gene)\n",
    "                b = {\n",
    "                    \"biomarker\": biomarker_temp.replace(\"{gene}\", gene),\n",
    "                    \"assessed_biomarker_entity\": {\n",
    "                        \"recommended_name\": gene\n",
    "                    },\n",
    "                    \"assessed_biomarker_entity_id\": gene_lookup(gene),\n",
    "                    \"assessed_entity_type\": ncbi_gene[ncbi_gene.GeneID == int(gene_lookup(gene))][\"type_of_gene\"].to_list()[0] + \" gene\",\n",
    "                }\n",
    "                biomarker_component.append(biomarker_component)\n",
    "        \n",
    "        biomarker[\"biomarker_component\"] = biomarker_component\n",
    "        biomarkers.append(biomarker)\n",
    "                \n"
   ]
  },
  {
   "cell_type": "code",
   "execution_count": 71,
   "metadata": {},
   "outputs": [
    {
     "data": {
      "text/plain": [
       "9"
      ]
     },
     "execution_count": 71,
     "metadata": {},
     "output_type": "execute_result"
    }
   ],
   "source": [
    "len(biomarkers)"
   ]
  },
  {
   "cell_type": "code",
   "execution_count": 74,
   "metadata": {},
   "outputs": [],
   "source": [
    "schema = requests.get(\"https://raw.githubusercontent.com/biomarker-ontology/biomarker-partnership/main/schema/v0.3.1/biomarker_schema.json\").json()\n",
    "sample = requests.get(\"https://raw.githubusercontent.com/biomarker-ontology/biomarker-partnership/main/supplementary_files/sample_data_model_structures/v0.3/sample_biomarker.json\").json()"
   ]
  },
  {
   "cell_type": "code",
   "execution_count": 75,
   "metadata": {},
   "outputs": [
    {
     "ename": "ValidationError",
     "evalue": "'prognostic' is not of type 'array'\n\nFailed validating 'type' in schema['items']['properties']['best_biomarker_role']:\n    {'description': 'Categories of BEST biomarker.',\n     'items': {'properties': {'role': {'description': 'Category of BEST '\n                                                      'biomarker.',\n                                       'examples': ['risk', 'diagnostic'],\n                                       'pattern': '^(risk|diagnostic|prognostic|monitoring|predictive|response|safety)$',\n                                       'type': 'string'}},\n               'required': ['role'],\n               'type': 'object'},\n     'type': 'array'}\n\nOn instance[0]['best_biomarker_role']:\n    'prognostic'",
     "output_type": "error",
     "traceback": [
      "\u001b[0;31m---------------------------------------------------------------------------\u001b[0m",
      "\u001b[0;31mValidationError\u001b[0m                           Traceback (most recent call last)",
      "Cell \u001b[0;32mIn[75], line 1\u001b[0m\n\u001b[0;32m----> 1\u001b[0m \u001b[43mvalidate\u001b[49m\u001b[43m(\u001b[49m\u001b[43minstance\u001b[49m\u001b[38;5;241;43m=\u001b[39;49m\u001b[43mbiomarkers\u001b[49m\u001b[43m,\u001b[49m\u001b[43m \u001b[49m\u001b[43mschema\u001b[49m\u001b[38;5;241;43m=\u001b[39;49m\u001b[43mschema\u001b[49m\u001b[43m)\u001b[49m\n",
      "File \u001b[0;32m~/Documents/codebase/biomarkers/venv/lib/python3.10/site-packages/jsonschema/validators.py:1312\u001b[0m, in \u001b[0;36mvalidate\u001b[0;34m(instance, schema, cls, *args, **kwargs)\u001b[0m\n\u001b[1;32m   1310\u001b[0m error \u001b[38;5;241m=\u001b[39m exceptions\u001b[38;5;241m.\u001b[39mbest_match(validator\u001b[38;5;241m.\u001b[39miter_errors(instance))\n\u001b[1;32m   1311\u001b[0m \u001b[38;5;28;01mif\u001b[39;00m error \u001b[38;5;129;01mis\u001b[39;00m \u001b[38;5;129;01mnot\u001b[39;00m \u001b[38;5;28;01mNone\u001b[39;00m:\n\u001b[0;32m-> 1312\u001b[0m     \u001b[38;5;28;01mraise\u001b[39;00m error\n",
      "\u001b[0;31mValidationError\u001b[0m: 'prognostic' is not of type 'array'\n\nFailed validating 'type' in schema['items']['properties']['best_biomarker_role']:\n    {'description': 'Categories of BEST biomarker.',\n     'items': {'properties': {'role': {'description': 'Category of BEST '\n                                                      'biomarker.',\n                                       'examples': ['risk', 'diagnostic'],\n                                       'pattern': '^(risk|diagnostic|prognostic|monitoring|predictive|response|safety)$',\n                                       'type': 'string'}},\n               'required': ['role'],\n               'type': 'object'},\n     'type': 'array'}\n\nOn instance[0]['best_biomarker_role']:\n    'prognostic'"
     ]
    }
   ],
   "source": [
    "validate(instance=biomarkers, schema=schema)"
   ]
  },
  {
   "cell_type": "code",
   "execution_count": null,
   "metadata": {},
   "outputs": [],
   "source": [
    "with open('out/020524_biomarker')"
   ]
  }
 ],
 "metadata": {
  "kernelspec": {
   "display_name": "venv",
   "language": "python",
   "name": "python3"
  },
  "language_info": {
   "codemirror_mode": {
    "name": "ipython",
    "version": 3
   },
   "file_extension": ".py",
   "mimetype": "text/x-python",
   "name": "python",
   "nbconvert_exporter": "python",
   "pygments_lexer": "ipython3",
   "version": "3.10.9"
  }
 },
 "nbformat": 4,
 "nbformat_minor": 2
}
