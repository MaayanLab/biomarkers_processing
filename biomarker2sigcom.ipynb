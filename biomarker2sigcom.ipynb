{
 "cells": [
  {
   "cell_type": "code",
   "execution_count": 31,
   "metadata": {},
   "outputs": [],
   "source": [
    "import requests\n",
    "import json\n",
    "import re\n",
    "from tqdm import tqdm\n",
    "import os\n",
    "import pandas as pd\n",
    "import time\n",
    "import uuid"
   ]
  },
  {
   "cell_type": "code",
   "execution_count": 2,
   "metadata": {},
   "outputs": [],
   "source": [
    "def fetch_save_read(url, file, reader=pd.read_csv, sep='\\t', **kwargs):\n",
    "  ''' Download file from {url}, save it to {file}, and subsequently read it with {reader} using pandas options on {**kwargs}.\n",
    "  '''\n",
    "  if not os.path.exists(file):\n",
    "    if os.path.dirname(file):\n",
    "      os.makedirs(os.path.dirname(file), exist_ok=True)\n",
    "    df = reader(url, sep=sep, index_col=None)\n",
    "    df.to_csv(file, sep=sep, index=False)\n",
    "  return pd.read_csv(file, sep=sep, **kwargs)"
   ]
  },
  {
   "cell_type": "code",
   "execution_count": 3,
   "metadata": {},
   "outputs": [],
   "source": [
    "organism = \"Mammalia/Homo_sapiens\"\n",
    "url = 'ftp://ftp.ncbi.nih.gov/gene/DATA/GENE_INFO/{}.gene_info.gz'.format(organism)\n",
    "file = '{}.gene_info.tsv'.format(organism)\n",
    "\n",
    "ncbi_gene = fetch_save_read(url, file)\n"
   ]
  },
  {
   "cell_type": "code",
   "execution_count": 4,
   "metadata": {},
   "outputs": [],
   "source": [
    "def maybe_split(record):\n",
    "    ''' NCBI Stores Nulls as '-' and lists '|' delimited\n",
    "    '''\n",
    "    if record in {'', '-'}:\n",
    "        return set()\n",
    "    return set(record.split('|'))\n",
    "\n",
    "def supplement_dbXref_prefix_omitted(ids):\n",
    "    ''' NCBI Stores external IDS with Foreign:ID while most datasets just use the ID\n",
    "    '''\n",
    "    for id in ids:\n",
    "        # add original id\n",
    "        yield id\n",
    "        # also add id *without* prefix\n",
    "        if ':' in id:\n",
    "            yield id.split(':', maxsplit=1)[1]"
   ]
  },
  {
   "cell_type": "code",
   "execution_count": 5,
   "metadata": {},
   "outputs": [],
   "source": [
    "ncbi_gene['All_synonyms'] = [\n",
    "    set.union(\n",
    "      maybe_split(gene_info['Symbol']),\n",
    "      maybe_split(gene_info['Symbol_from_nomenclature_authority']),\n",
    "      maybe_split(str(gene_info['GeneID'])),\n",
    "      maybe_split(gene_info['Synonyms']),\n",
    "      maybe_split(gene_info['Other_designations']),\n",
    "      maybe_split(gene_info['LocusTag']),\n",
    "      set(supplement_dbXref_prefix_omitted(maybe_split(gene_info['dbXrefs']))),\n",
    "    )\n",
    "    for _, gene_info in ncbi_gene.iterrows()\n",
    "  ]\n",
    "\n",
    "synonyms, gene_id = zip(*{\n",
    "    (synonym, gene_info['GeneID'])\n",
    "    for _, gene_info in ncbi_gene.iterrows()\n",
    "    for synonym in gene_info['All_synonyms']\n",
    "  })\n",
    "ncbi_lookup_syn = pd.Series(gene_id, index=synonyms)\n",
    "symbols, cap, gene_id = zip(*{\n",
    "    (gene_info['Symbol'], gene_info['Symbol'].upper(), gene_info['GeneID'])\n",
    "    for _, gene_info in ncbi_gene.iterrows()\n",
    "  })\n",
    "ncbi_lookup_sym = pd.Series(gene_id, index=symbols)\n",
    "ncbi_lookup_sym_cap = pd.Series(gene_id, index=cap)"
   ]
  },
  {
   "cell_type": "code",
   "execution_count": 6,
   "metadata": {},
   "outputs": [],
   "source": [
    "index_values = ncbi_lookup_syn.index.value_counts()\n",
    "ambiguous = index_values[index_values > 1].index\n",
    "ncbi_lookup_syn_disambiguated = ncbi_lookup_syn[(\n",
    "(ncbi_lookup_syn.index == ncbi_lookup_syn) | (~ncbi_lookup_syn.index.isin(ambiguous))\n",
    ")]\n",
    "sym_dict = ncbi_lookup_sym.to_dict()\n",
    "syn_dict_cap = ncbi_lookup_sym_cap.to_dict()\n",
    "syn_dict = ncbi_lookup_syn_disambiguated.to_dict()\n",
    "def gene_lookup(gene):\n",
    "    gene_id = sym_dict.get(gene)\n",
    "    if gene_id: return str(gene_id)\n",
    "    gene_id = syn_dict_cap.get(gene)\n",
    "    if gene_id: return str(gene_id)\n",
    "    return str(syn_dict.get(gene))"
   ]
  },
  {
   "cell_type": "code",
   "execution_count": 21,
   "metadata": {},
   "outputs": [
    {
     "data": {
      "text/plain": [
       "'3105'"
      ]
     },
     "execution_count": 21,
     "metadata": {},
     "output_type": "execute_result"
    }
   ],
   "source": [
    "gene_lookup('HLA-A')"
   ]
  },
  {
   "cell_type": "code",
   "execution_count": 26,
   "metadata": {},
   "outputs": [],
   "source": [
    "gene_name_mapper = {\n",
    "    \"Seladin\": \"DHCR24\",\n",
    " 'AA555029_RC': \"AA555029_RC\",\n",
    " 'ELOC (TCEB1)': \"ELOC\",\n",
    " 'ERBB2 (HER2)': \"ERBB2\",\n",
    " 'HLA_A': \"HLA-A\",\n",
    " 'ROS1\\n': \"ROS1\",\n",
    "}\n"
   ]
  },
  {
   "cell_type": "code",
   "execution_count": 27,
   "metadata": {},
   "outputs": [],
   "source": [
    "invalid_genes = set()\n",
    "def valid_gene(gene):\n",
    "    gene = gene_name_mapper.get(gene, gene)\n",
    "    if gene_lookup(gene) != 'None':\n",
    "        return True\n",
    "    invalid_genes.add(gene)\n",
    "    return False"
   ]
  },
  {
   "cell_type": "code",
   "execution_count": 32,
   "metadata": {},
   "outputs": [],
   "source": [
    "gmt = []\n",
    "with open('data/lara.gmt') as o:\n",
    "    for line in o:\n",
    "        label, description, *genes = line.split(\"\\t\")\n",
    "        valid_genes = []\n",
    "        for gene in genes:\n",
    "            if valid_gene(gene):\n",
    "                valid_genes.append(gene)\n",
    "        if len(valid_genes) >= 5:\n",
    "            gmt.append([\"%s (%s)\"%(label, description), '', *valid_genes])\n"
   ]
  },
  {
   "cell_type": "code",
   "execution_count": 33,
   "metadata": {},
   "outputs": [
    {
     "data": {
      "text/plain": [
       "{'',\n",
       " '\\n',\n",
       " 'AA555029_RC',\n",
       " 'ARHGDB',\n",
       " 'CHECK1',\n",
       " 'DHRF',\n",
       " 'EGFR3',\n",
       " 'ER',\n",
       " 'FDF18',\n",
       " 'FRAG1',\n",
       " 'FRDX2',\n",
       " 'FRKCA',\n",
       " 'GUS',\n",
       " 'KIAA0999',\n",
       " 'KIAA1625',\n",
       " 'KIE20A',\n",
       " 'KRTS',\n",
       " 'LOC100131053',\n",
       " 'LOC100288906',\n",
       " 'LOC730018',\n",
       " 'MAP2K',\n",
       " 'MSI',\n",
       " 'ORCL6L',\n",
       " 'P1K3R3',\n",
       " 'PALB3',\n",
       " 'PHGCH',\n",
       " 'PTNP11',\n",
       " 'RPLPO',\n",
       " 'SLCA7A5',\n",
       " 'TMB'}"
      ]
     },
     "execution_count": 33,
     "metadata": {},
     "output_type": "execute_result"
    }
   ],
   "source": [
    "invalid_genes"
   ]
  },
  {
   "cell_type": "code",
   "execution_count": 30,
   "metadata": {},
   "outputs": [],
   "source": [
    "with open('data/filtered_biomarkers_from_lara.gmt', 'w') as o:\n",
    "    o.write(\"\\n\".join([\"\\t\".join(i) for i in gmt]))\n"
   ]
  },
  {
   "cell_type": "code",
   "execution_count": null,
   "metadata": {},
   "outputs": [],
   "source": []
  }
 ],
 "metadata": {
  "kernelspec": {
   "display_name": "venv",
   "language": "python",
   "name": "python3"
  },
  "language_info": {
   "codemirror_mode": {
    "name": "ipython",
    "version": 3
   },
   "file_extension": ".py",
   "mimetype": "text/x-python",
   "name": "python",
   "nbconvert_exporter": "python",
   "pygments_lexer": "ipython3",
   "version": "3.10.9"
  }
 },
 "nbformat": 4,
 "nbformat_minor": 2
}
