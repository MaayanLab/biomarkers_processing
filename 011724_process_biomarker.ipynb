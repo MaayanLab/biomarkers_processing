{
 "cells": [
  {
   "cell_type": "code",
   "execution_count": 1,
   "metadata": {},
   "outputs": [],
   "source": [
    "import requests\n",
    "import json\n",
    "import re\n",
    "from tqdm import tqdm\n",
    "import os\n",
    "import pandas as pd\n",
    "import time\n",
    "import uuid\n",
    "from jsonschema import validate"
   ]
  },
  {
   "cell_type": "code",
   "execution_count": 2,
   "metadata": {},
   "outputs": [],
   "source": [
    "def fetch_save_read(url, file, reader=pd.read_csv, sep='\\t', **kwargs):\n",
    "  ''' Download file from {url}, save it to {file}, and subsequently read it with {reader} using pandas options on {**kwargs}.\n",
    "  '''\n",
    "  if not os.path.exists(file):\n",
    "    if os.path.dirname(file):\n",
    "      os.makedirs(os.path.dirname(file), exist_ok=True)\n",
    "    df = reader(url, sep=sep, index_col=None)\n",
    "    df.to_csv(file, sep=sep, index=False)\n",
    "  return pd.read_csv(file, sep=sep, **kwargs)"
   ]
  },
  {
   "cell_type": "code",
   "execution_count": 3,
   "metadata": {},
   "outputs": [],
   "source": [
    "organism = \"Mammalia/Homo_sapiens\"\n",
    "url = 'ftp://ftp.ncbi.nih.gov/gene/DATA/GENE_INFO/{}.gene_info.gz'.format(organism)\n",
    "file = '{}.gene_info.tsv'.format(organism)\n",
    "\n",
    "ncbi_gene = fetch_save_read(url, file)\n"
   ]
  },
  {
   "cell_type": "code",
   "execution_count": 4,
   "metadata": {},
   "outputs": [],
   "source": [
    "def maybe_split(record):\n",
    "    ''' NCBI Stores Nulls as '-' and lists '|' delimited\n",
    "    '''\n",
    "    if record in {'', '-'}:\n",
    "        return set()\n",
    "    return set(record.split('|'))\n",
    "\n",
    "def supplement_dbXref_prefix_omitted(ids):\n",
    "    ''' NCBI Stores external IDS with Foreign:ID while most datasets just use the ID\n",
    "    '''\n",
    "    for id in ids:\n",
    "        # add original id\n",
    "        yield id\n",
    "        # also add id *without* prefix\n",
    "        if ':' in id:\n",
    "            yield id.split(':', maxsplit=1)[1]"
   ]
  },
  {
   "cell_type": "code",
   "execution_count": 5,
   "metadata": {},
   "outputs": [],
   "source": [
    "ncbi_gene['All_synonyms'] = [\n",
    "    set.union(\n",
    "      maybe_split(gene_info['Symbol']),\n",
    "      maybe_split(gene_info['Symbol_from_nomenclature_authority']),\n",
    "      maybe_split(str(gene_info['GeneID'])),\n",
    "      maybe_split(gene_info['Synonyms']),\n",
    "      maybe_split(gene_info['Other_designations']),\n",
    "      maybe_split(gene_info['LocusTag']),\n",
    "      set(supplement_dbXref_prefix_omitted(maybe_split(gene_info['dbXrefs']))),\n",
    "    )\n",
    "    for _, gene_info in ncbi_gene.iterrows()\n",
    "  ]\n",
    "\n",
    "synonyms, gene_id = zip(*{\n",
    "    (synonym, gene_info['GeneID'])\n",
    "    for _, gene_info in ncbi_gene.iterrows()\n",
    "    for synonym in gene_info['All_synonyms']\n",
    "  })\n",
    "ncbi_lookup_syn = pd.Series(gene_id, index=synonyms)\n",
    "symbols, cap, gene_id = zip(*{\n",
    "    (gene_info['Symbol'], gene_info['Symbol'].upper(), gene_info['GeneID'])\n",
    "    for _, gene_info in ncbi_gene.iterrows()\n",
    "  })\n",
    "ncbi_lookup_sym = pd.Series(gene_id, index=symbols)\n",
    "ncbi_lookup_sym_cap = pd.Series(gene_id, index=cap)"
   ]
  },
  {
   "cell_type": "code",
   "execution_count": 6,
   "metadata": {},
   "outputs": [],
   "source": [
    "index_values = ncbi_lookup_syn.index.value_counts()\n",
    "ambiguous = index_values[index_values > 1].index\n",
    "ncbi_lookup_syn_disambiguated = ncbi_lookup_syn[(\n",
    "(ncbi_lookup_syn.index == ncbi_lookup_syn) | (~ncbi_lookup_syn.index.isin(ambiguous))\n",
    ")]\n",
    "sym_dict = ncbi_lookup_sym.to_dict()\n",
    "syn_dict_cap = ncbi_lookup_sym_cap.to_dict()\n",
    "syn_dict = ncbi_lookup_syn_disambiguated.to_dict()\n",
    "def gene_lookup(gene):\n",
    "    gene_id = sym_dict.get(gene)\n",
    "    if gene_id: return str(gene_id)\n",
    "    gene_id = syn_dict_cap.get(gene)\n",
    "    if gene_id: return str(gene_id)\n",
    "    return str(syn_dict.get(gene))"
   ]
  },
  {
   "cell_type": "code",
   "execution_count": 7,
   "metadata": {},
   "outputs": [
    {
     "data": {
      "text/plain": [
       "'3105'"
      ]
     },
     "execution_count": 7,
     "metadata": {},
     "output_type": "execute_result"
    }
   ],
   "source": [
    "gene_lookup('HLA-A')"
   ]
  },
  {
   "cell_type": "code",
   "execution_count": 30,
   "metadata": {},
   "outputs": [],
   "source": [
    "gene_name_mapper = {\n",
    "    \"Seladin\": \"DHCR24\",\n",
    " 'AA555029_RC': \"AA555029_RC\",\n",
    " 'ELOC (TCEB1)': \"ELOC\",\n",
    " 'ERBB2 (HER2)': \"ERBB2\",\n",
    " 'HLA_A': \"HLA-A\",\n",
    " 'ROS1\\n': \"ROS1\",\n",
    " 'AA555029_RC': 'AA555029_RC',\n",
    " 'ACVR1 (ALK2)': '',\n",
    " 'ARHGDB': 'ARHGDB',\n",
    " 'CD274 (PD- L1)': 'CD274',\n",
    " 'CD274 (PD-L1)': 'CD274',\n",
    " 'CHECK1': 'CHECK1',\n",
    " 'DHRF': 'DHRF',\n",
    " 'ER': 'ER',\n",
    " 'ERBB2 (Her2/Neu)': 'ERBB2',\n",
    " 'FDF18': 'FDF18',\n",
    " 'FRAG1': 'FRAG1',\n",
    " 'FRDX2': 'FRDX2',\n",
    " 'FRKCA': 'FRKCA',\n",
    " 'GUS': 'GUS',\n",
    " 'HER2 (ERBB2)': 'HER2',\n",
    " 'KIAA0999': 'KIAA0999',\n",
    " 'KIAA1625': 'KIAA1625',\n",
    " 'KIE20A': 'KIE20A',\n",
    " 'KRTS': 'KRTS',\n",
    " 'Ki67': 'Ki67',\n",
    " 'LOC100131053': 'LOC100131053',\n",
    " 'LOC100288906': 'LOC100288906',\n",
    " 'LOC730018': 'LOC730018',\n",
    " 'MAP2K\\n': 'MAP2K',\n",
    " 'MAP2K1 (MEK1)': 'MAP2K1',\n",
    " 'MAP2K2 (MEK2)': 'MAP2K2',\n",
    " 'MDF1': 'MDF1',\n",
    " 'ORCL6L': 'ORCL6L',\n",
    " 'P1K3R3': 'P1K3R3',\n",
    " 'PALB3': 'PALB3',\n",
    " 'PDCD1L G2 (PD-L2)': 'PD-L2',\n",
    " 'PDGRFA': 'PDGRFA',\n",
    " 'PHGCH': 'PHGCH',\n",
    " 'PTNP11': 'PTNP11',\n",
    " 'RPLPO': 'RPLPO',\n",
    " 'SLCA7A5': 'SLCA7A5',\n",
    " 'SMAD4/DPC4': 'SMAD4',\n",
    " 'STK11/LKB1': 'STK11',\n",
    "}\n"
   ]
  },
  {
   "cell_type": "code",
   "execution_count": 31,
   "metadata": {},
   "outputs": [],
   "source": [
    "invalid_genes = set()\n",
    "def valid_gene(gene):\n",
    "    gene = gene_name_mapper.get(gene, gene)\n",
    "    if gene_lookup(gene) != 'None':\n",
    "        return True\n",
    "    invalid_genes.add(gene)\n",
    "    return False"
   ]
  },
  {
   "cell_type": "code",
   "execution_count": 35,
   "metadata": {},
   "outputs": [],
   "source": [
    "gmt = []\n",
    "with open('data/011724_biomarkers.gmt') as o:\n",
    "    for line in o:\n",
    "        label, description, *genes = line.split(\"\\t\")\n",
    "        valid_genes = []\n",
    "        for gene in genes:\n",
    "            if valid_gene(gene):\n",
    "                valid_genes.append(gene)\n",
    "        if len(valid_genes) >= 5:\n",
    "            gmt.append([label, description, *valid_genes])\n"
   ]
  },
  {
   "cell_type": "code",
   "execution_count": 36,
   "metadata": {},
   "outputs": [],
   "source": [
    "with open('data/011724_filtered_biomarkers.gmt', 'w') as o:\n",
    "    o.write(\"\\n\".join([\"\\t\".join(i) for i in gmt]))\n"
   ]
  },
  {
   "cell_type": "code",
   "execution_count": 38,
   "metadata": {},
   "outputs": [],
   "source": [
    "terms = {'Breast Cancer',\n",
    " 'Gastric Cancer',\n",
    " 'Cell-Free Tumor DNA',\n",
    " 'Circulating Tumor DNA',\n",
    " 'Colorectal Cancer',\n",
    " 'Genetic alterations',\n",
    " 'Genomic alterations',\n",
    " 'Mutations, alterations',\n",
    " 'NSCLC',\n",
    " 'Pancreatic Cancer',\n",
    " 'Prostate Cancer',\n",
    " 'Thyroid Nodules',\n",
    " 'Tumor profiling'}"
   ]
  },
  {
   "cell_type": "code",
   "execution_count": 57,
   "metadata": {},
   "outputs": [
    {
     "name": "stdout",
     "output_type": "stream",
     "text": [
      "Genetic alterations\n",
      "Pancreatic Cancer\n",
      "Tumor profiling\n",
      "Prostate Cancer\n",
      "NSCLC\n",
      "Breast Cancer\n",
      "Gastric Cancer\n",
      "Circulating Tumor DNA\n",
      "Colorectal Cancer\n",
      "Mutations, alterations\n",
      "Thyroid Nodules\n",
      "Cell-Free Tumor DNA\n",
      "Genomic alterations\n"
     ]
    }
   ],
   "source": [
    "onto_id_mapper = {}\n",
    "for i in terms:\n",
    "    print(i)\n",
    "    res = requests.get(\"https://www.ebi.ac.uk/ols4/api/v2/entities?search=%s&ontologyId=doid\"%i)\n",
    "    results = res.json()\n",
    "    if results['numElements'] > 0:\n",
    "        for e in results[\"elements\"]:\n",
    "            if type(e[\"label\"]) == str and e[\"label\"].lower() == i.lower() or (\"synonym\" in e and i.lower() in [d.lower() for d in e[\"synonym\"]]):\n",
    "                onto_id_mapper[i] = {\n",
    "                    \"label\": e[\"label\"],\n",
    "                    \"onto_id\": e[\"curie\"],\n",
    "                    \"source\": e[\"ontologyPreferredPrefix\"]\n",
    "                }\n",
    "                break\n",
    "\n",
    "    \n"
   ]
  },
  {
   "cell_type": "code",
   "execution_count": 58,
   "metadata": {},
   "outputs": [],
   "source": [
    "unmatched = set(terms) - set(onto_id_mapper.keys())"
   ]
  },
  {
   "cell_type": "code",
   "execution_count": 59,
   "metadata": {},
   "outputs": [
    {
     "name": "stdout",
     "output_type": "stream",
     "text": [
      "Genetic alterations\n",
      "Tumor profiling\n",
      "Mutations, alterations\n",
      "Circulating Tumor DNA\n",
      "Thyroid Nodules\n",
      "Cell-Free Tumor DNA\n",
      "Genomic alterations\n"
     ]
    }
   ],
   "source": [
    "for i in unmatched:\n",
    "    print(i)\n",
    "    res = requests.get(\"https://www.ebi.ac.uk/ols4/api/v2/entities?search=%s\"%i)\n",
    "    results = res.json()\n",
    "    if results['numElements'] > 0:\n",
    "        for e in results[\"elements\"]:\n",
    "            if type(e[\"label\"]) == str and e[\"label\"].lower() == i.lower():\n",
    "                onto_id_mapper[i] = {\n",
    "                    \"label\": e[\"label\"],\n",
    "                    \"onto_id\": e[\"curie\"],\n",
    "                    \"source\": e[\"ontologyPreferredPrefix\"]\n",
    "                }\n",
    "                break\n",
    "\n",
    "    \n"
   ]
  },
  {
   "cell_type": "code",
   "execution_count": 60,
   "metadata": {},
   "outputs": [
    {
     "data": {
      "text/plain": [
       "{'Cell-Free Tumor DNA',\n",
       " 'Circulating Tumor DNA',\n",
       " 'Genetic alterations',\n",
       " 'Genomic alterations',\n",
       " 'Mutations, alterations',\n",
       " 'Thyroid Nodules',\n",
       " 'Tumor profiling'}"
      ]
     },
     "execution_count": 60,
     "metadata": {},
     "output_type": "execute_result"
    }
   ],
   "source": [
    "set(terms) - set(onto_id_mapper.keys())"
   ]
  },
  {
   "cell_type": "code",
   "execution_count": 61,
   "metadata": {},
   "outputs": [],
   "source": [
    "columns = [\"best_biomarker_role\", \"biomarker\", \"recommended_name\", \"assessed_biomarker_entity_id\", \"assessed_entity_type\", \"source\", \"pubmed\", \"evidence_tags\", \"condition_id\", \"condition_name\", \"condition_resource\", \"condition_url\"]"
   ]
  },
  {
   "cell_type": "code",
   "execution_count": 67,
   "metadata": {},
   "outputs": [],
   "source": [
    "df = pd.DataFrame(index=[], columns=columns)"
   ]
  },
  {
   "cell_type": "code",
   "execution_count": 151,
   "metadata": {},
   "outputs": [],
   "source": [
    "ind = 0\n",
    "for i in gmt:\n",
    "    source, condition, *genes = i\n",
    "    condition_id = []\n",
    "    condition_name = []\n",
    "    condition_url = []\n",
    "    for c in condition.split(\"/ \"):\n",
    "        if c in onto_id_mapper:\n",
    "            val = onto_id_mapper[c]\n",
    "            condition_id.append(val[\"onto_id\"])\n",
    "            condition_name.append(val[\"label\"])\n",
    "            condition_url.append(\"https://disease-ontology.org/?id=%s\"%val[\"onto_id\"])\n",
    "    for gene in genes:\n",
    "        gene_id = gene_lookup(gene)\n",
    "        if gene_id != 'None':\n",
    "            biomarker = \"%s (%s)\"%(source, gene)\n",
    "            if len(condition_id) == 0:\n",
    "                 biomarker = \"%s (%s %s)\"%(source, gene, condition)\n",
    "            tags = [\"biomarker\"]\n",
    "            # for i in condition_id:\n",
    "            #     tags.append(\"condition:%s\"%i)\n",
    "            df.loc[ind] = {\n",
    "                \"best_biomarker_role\": \"\",\n",
    "                \"biomarker\": biomarker,\n",
    "                \"recommended_name\": gene,\n",
    "                \"assessed_biomarker_entity_id\": \"NCBI:%s\"%gene_id,\n",
    "                \"assessed_entity_type\": \"gene\",\n",
    "                \"source\": source,\n",
    "                \"pubmed\": \"\",\n",
    "                \"evidence_tags\": tags,\n",
    "                \"condition_id\": \"|\".join(condition_id),\n",
    "                \"condition_name\": \"|\".join(condition_name),\n",
    "                \"condition_url\": \"|\".join(condition_url),\n",
    "                \"condition_resource\": \"DOID\" if len(condition_id) > 0 else \"\"\n",
    "            }\n",
    "            ind += 1"
   ]
  },
  {
   "cell_type": "code",
   "execution_count": 152,
   "metadata": {},
   "outputs": [
    {
     "data": {
      "text/html": [
       "<div>\n",
       "<style scoped>\n",
       "    .dataframe tbody tr th:only-of-type {\n",
       "        vertical-align: middle;\n",
       "    }\n",
       "\n",
       "    .dataframe tbody tr th {\n",
       "        vertical-align: top;\n",
       "    }\n",
       "\n",
       "    .dataframe thead th {\n",
       "        text-align: right;\n",
       "    }\n",
       "</style>\n",
       "<table border=\"1\" class=\"dataframe\">\n",
       "  <thead>\n",
       "    <tr style=\"text-align: right;\">\n",
       "      <th></th>\n",
       "      <th>best_biomarker_role</th>\n",
       "      <th>biomarker</th>\n",
       "      <th>recommended_name</th>\n",
       "      <th>assessed_biomarker_entity_id</th>\n",
       "      <th>assessed_entity_type</th>\n",
       "      <th>source</th>\n",
       "      <th>pubmed</th>\n",
       "      <th>evidence_tags</th>\n",
       "      <th>condition_id</th>\n",
       "      <th>condition_name</th>\n",
       "      <th>condition_resource</th>\n",
       "      <th>condition_url</th>\n",
       "    </tr>\n",
       "  </thead>\n",
       "  <tbody>\n",
       "    <tr>\n",
       "      <th>0</th>\n",
       "      <td></td>\n",
       "      <td>Oncotype DX  (STK15)</td>\n",
       "      <td>STK15</td>\n",
       "      <td>NCBI:6790</td>\n",
       "      <td>gene</td>\n",
       "      <td>Oncotype DX</td>\n",
       "      <td></td>\n",
       "      <td>[biomarker]</td>\n",
       "      <td>DOID:1612</td>\n",
       "      <td>breast cancer</td>\n",
       "      <td>DOID</td>\n",
       "      <td>https://disease-ontology.org/?id=DOID:1612</td>\n",
       "    </tr>\n",
       "    <tr>\n",
       "      <th>1</th>\n",
       "      <td></td>\n",
       "      <td>Oncotype DX  (BIRC5)</td>\n",
       "      <td>BIRC5</td>\n",
       "      <td>NCBI:332</td>\n",
       "      <td>gene</td>\n",
       "      <td>Oncotype DX</td>\n",
       "      <td></td>\n",
       "      <td>[biomarker]</td>\n",
       "      <td>DOID:1612</td>\n",
       "      <td>breast cancer</td>\n",
       "      <td>DOID</td>\n",
       "      <td>https://disease-ontology.org/?id=DOID:1612</td>\n",
       "    </tr>\n",
       "    <tr>\n",
       "      <th>2</th>\n",
       "      <td></td>\n",
       "      <td>Oncotype DX  (CCNB1)</td>\n",
       "      <td>CCNB1</td>\n",
       "      <td>NCBI:891</td>\n",
       "      <td>gene</td>\n",
       "      <td>Oncotype DX</td>\n",
       "      <td></td>\n",
       "      <td>[biomarker]</td>\n",
       "      <td>DOID:1612</td>\n",
       "      <td>breast cancer</td>\n",
       "      <td>DOID</td>\n",
       "      <td>https://disease-ontology.org/?id=DOID:1612</td>\n",
       "    </tr>\n",
       "    <tr>\n",
       "      <th>3</th>\n",
       "      <td></td>\n",
       "      <td>Oncotype DX  (MYBL2)</td>\n",
       "      <td>MYBL2</td>\n",
       "      <td>NCBI:4605</td>\n",
       "      <td>gene</td>\n",
       "      <td>Oncotype DX</td>\n",
       "      <td></td>\n",
       "      <td>[biomarker]</td>\n",
       "      <td>DOID:1612</td>\n",
       "      <td>breast cancer</td>\n",
       "      <td>DOID</td>\n",
       "      <td>https://disease-ontology.org/?id=DOID:1612</td>\n",
       "    </tr>\n",
       "    <tr>\n",
       "      <th>4</th>\n",
       "      <td></td>\n",
       "      <td>Oncotype DX  (MMP11)</td>\n",
       "      <td>MMP11</td>\n",
       "      <td>NCBI:4320</td>\n",
       "      <td>gene</td>\n",
       "      <td>Oncotype DX</td>\n",
       "      <td></td>\n",
       "      <td>[biomarker]</td>\n",
       "      <td>DOID:1612</td>\n",
       "      <td>breast cancer</td>\n",
       "      <td>DOID</td>\n",
       "      <td>https://disease-ontology.org/?id=DOID:1612</td>\n",
       "    </tr>\n",
       "  </tbody>\n",
       "</table>\n",
       "</div>"
      ],
      "text/plain": [
       "  best_biomarker_role             biomarker recommended_name  \\\n",
       "0                      Oncotype DX  (STK15)            STK15   \n",
       "1                      Oncotype DX  (BIRC5)            BIRC5   \n",
       "2                      Oncotype DX  (CCNB1)            CCNB1   \n",
       "3                      Oncotype DX  (MYBL2)            MYBL2   \n",
       "4                      Oncotype DX  (MMP11)            MMP11   \n",
       "\n",
       "  assessed_biomarker_entity_id assessed_entity_type        source pubmed  \\\n",
       "0                    NCBI:6790                 gene  Oncotype DX           \n",
       "1                     NCBI:332                 gene  Oncotype DX           \n",
       "2                     NCBI:891                 gene  Oncotype DX           \n",
       "3                    NCBI:4605                 gene  Oncotype DX           \n",
       "4                    NCBI:4320                 gene  Oncotype DX           \n",
       "\n",
       "  evidence_tags condition_id condition_name condition_resource  \\\n",
       "0   [biomarker]    DOID:1612  breast cancer               DOID   \n",
       "1   [biomarker]    DOID:1612  breast cancer               DOID   \n",
       "2   [biomarker]    DOID:1612  breast cancer               DOID   \n",
       "3   [biomarker]    DOID:1612  breast cancer               DOID   \n",
       "4   [biomarker]    DOID:1612  breast cancer               DOID   \n",
       "\n",
       "                                condition_url  \n",
       "0  https://disease-ontology.org/?id=DOID:1612  \n",
       "1  https://disease-ontology.org/?id=DOID:1612  \n",
       "2  https://disease-ontology.org/?id=DOID:1612  \n",
       "3  https://disease-ontology.org/?id=DOID:1612  \n",
       "4  https://disease-ontology.org/?id=DOID:1612  "
      ]
     },
     "execution_count": 152,
     "metadata": {},
     "output_type": "execute_result"
    }
   ],
   "source": [
    "df.head()"
   ]
  },
  {
   "cell_type": "code",
   "execution_count": 153,
   "metadata": {},
   "outputs": [],
   "source": [
    "df.to_csv(\"out/biomarker_formatted.tsv\", sep=\"\\t\", index=None)"
   ]
  },
  {
   "cell_type": "code",
   "execution_count": 154,
   "metadata": {},
   "outputs": [],
   "source": [
    "vals = df.loc[0]"
   ]
  },
  {
   "cell_type": "code",
   "execution_count": 155,
   "metadata": {},
   "outputs": [],
   "source": [
    "entry = {\n",
    "    \"biomarker_component\": [],\n",
    "    \"best_biomarker_role\": \"diagnostic\"\n",
    "}"
   ]
  },
  {
   "cell_type": "code",
   "execution_count": 156,
   "metadata": {},
   "outputs": [],
   "source": [
    "biomarker = {}\n",
    "biomarker[\"biomarker\"] = vals[\"biomarker\"]\n",
    "biomarker[\"assessed_biomarker_entity\"] = {\n",
    "    \"recommended_name\": vals[\"recommended_name\"]\n",
    "}\n",
    "biomarker[\"assessed_biomarker_entity_id\"] = vals[\"assessed_biomarker_entity_id\"]\n",
    "biomarker[\"assessed_entity_type\"]= vals[\"assessed_entity_type\"]\n",
    "biomarker[\"evidence_source\"] = [\n",
    "    {\n",
    "        \"evidence_id\": \"33519238\",\n",
    "        \"database\": \"PubMed\",\n",
    "        \"url\": \"https://pubmed.ncbi.nlm.nih.gov/33519238/\",\n",
    "        \"tags\": [{\"tag\": t.strip()} for t in vals[\"evidence_tags\"]]\n",
    "    }\n",
    "]"
   ]
  },
  {
   "cell_type": "code",
   "execution_count": 157,
   "metadata": {},
   "outputs": [],
   "source": [
    "entry[\"biomarker_component\"].append(biomarker)"
   ]
  },
  {
   "cell_type": "code",
   "execution_count": 158,
   "metadata": {},
   "outputs": [
    {
     "name": "stdout",
     "output_type": "stream",
     "text": [
      "{\n",
      "    \"biomarker_component\": [\n",
      "        {\n",
      "            \"biomarker\": \"Oncotype DX  (STK15)\",\n",
      "            \"assessed_biomarker_entity\": {\n",
      "                \"recommended_name\": \"STK15\"\n",
      "            },\n",
      "            \"assessed_biomarker_entity_id\": \"NCBI:6790\",\n",
      "            \"assessed_entity_type\": \"gene\",\n",
      "            \"evidence_source\": [\n",
      "                {\n",
      "                    \"evidence_id\": \"33519238\",\n",
      "                    \"database\": \"PubMed\",\n",
      "                    \"url\": \"https://pubmed.ncbi.nlm.nih.gov/33519238/\",\n",
      "                    \"tags\": [\n",
      "                        {\n",
      "                            \"tag\": \"biomarker\"\n",
      "                        }\n",
      "                    ]\n",
      "                }\n",
      "            ]\n",
      "        }\n",
      "    ],\n",
      "    \"best_biomarker_role\": \"diagnostic\"\n",
      "}\n"
     ]
    }
   ],
   "source": [
    "print(json.dumps(entry, indent=4))"
   ]
  },
  {
   "cell_type": "code",
   "execution_count": 159,
   "metadata": {},
   "outputs": [],
   "source": [
    "schema = requests.get(\"https://raw.githubusercontent.com/biomarker-ontology/biomarker-partnership/main/schema/v0.3/biomarker_schema.json\").json()\n",
    "sample = requests.get(\"https://raw.githubusercontent.com/biomarker-ontology/biomarker-partnership/main/supplementary_files/sample_data_model_structures/v0.3/sample_biomarker.json\").json()"
   ]
  },
  {
   "cell_type": "code",
   "execution_count": 160,
   "metadata": {},
   "outputs": [],
   "source": [
    "validate(instance=[entry], schema=schema)"
   ]
  },
  {
   "cell_type": "code",
   "execution_count": null,
   "metadata": {},
   "outputs": [],
   "source": []
  }
 ],
 "metadata": {
  "kernelspec": {
   "display_name": "venv",
   "language": "python",
   "name": "python3"
  },
  "language_info": {
   "codemirror_mode": {
    "name": "ipython",
    "version": 3
   },
   "file_extension": ".py",
   "mimetype": "text/x-python",
   "name": "python",
   "nbconvert_exporter": "python",
   "pygments_lexer": "ipython3",
   "version": "3.10.9"
  }
 },
 "nbformat": 4,
 "nbformat_minor": 2
}
